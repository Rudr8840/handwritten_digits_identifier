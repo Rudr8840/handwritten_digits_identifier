{
 "cells": [
  {
   "cell_type": "markdown",
   "id": "31ce36ad-9671-4a40-be82-9bd0f165373e",
   "metadata": {},
   "source": [
    "## 🧠 Functional Neural Network (3-Layer Feedforward)\n",
    "\n",
    "This code takes a normalized input image of shape `(1, 784)` and performs forward propagation through three manually defined layers."
   ]
  },
  {
   "cell_type": "markdown",
   "id": "59adac92-5541-4c2a-b06b-963d1996c248",
   "metadata": {},
   "source": [
    "### ✅ Markdown for Version 1: Functional Neural Network"
   ]
  },
  {
   "cell_type": "code",
   "execution_count": 11,
   "id": "8abd383e-198d-48dd-95ae-90bf2779352a",
   "metadata": {},
   "outputs": [
    {
     "name": "stdout",
     "output_type": "stream",
     "text": [
      "Found CSV file: ./data\\mnist_test.csv\n",
      "Loaded 10000 images.\n"
     ]
    },
    {
     "name": "stdin",
     "output_type": "stream",
     "text": [
      "Enter image index (0 to 9999):  5000\n"
     ]
    },
    {
     "name": "stdout",
     "output_type": "stream",
     "text": [
      "\n",
      "Output vector (shape: 1x10):\n",
      "[[0.43822637 0.99976943 0.98146288 0.01279599 0.77825019 0.76262693\n",
      "  0.59037109 0.87494083 0.1947236  0.04310411]]\n",
      "Predicted digit: 1\n"
     ]
    }
   ],
   "source": [
    "import os\n",
    "import numpy as np\n",
    "from PIL import Image\n",
    "from IPython.display import display\n",
    "from scipy.special import expit as sigmoid  # sigmoid activation\n",
    "\n",
    "# === Step 1: Load CSV file from ./data ===\n",
    "path = './data'\n",
    "\n",
    "if not os.path.exists(path):\n",
    "    os.makedirs(path)\n",
    "    print(f\"Created directory: {path}. Please place your CSV file inside this folder.\")\n",
    "    exit()\n",
    "\n",
    "csv_files = [f for f in os.listdir(path) if f.endswith('.csv')]\n",
    "\n",
    "if not csv_files:\n",
    "    print(f\"No CSV files found in '{path}'.\")\n",
    "    print(\"Please make sure your image dataset CSV file is placed in this folder.\")\n",
    "    exit()\n",
    "\n",
    "csv_path = os.path.join(path, csv_files[0])\n",
    "print(f\"Found CSV file: {csv_path}\")\n",
    "\n",
    "try:\n",
    "    data = np.genfromtxt(csv_path, delimiter=',', skip_header=1)\n",
    "    if data.size == 0:\n",
    "        print(f\"Warning: CSV file '{csv_path}' might be empty or `skip_header=1` was incorrect. Trying with `skip_header=0`.\")\n",
    "        data = np.genfromtxt(csv_path, delimiter=',', skip_header=0)\n",
    "\n",
    "    if data.size == 0:\n",
    "        raise ValueError(\"No data could be loaded from the CSV file. It might be empty or malformed.\")\n",
    "\n",
    "    labels = data[:, 0].astype(int)\n",
    "    pixels = data[:, 1:].astype(np.uint8)\n",
    "\n",
    "    print(f\"Loaded {len(labels)} images.\")\n",
    "\n",
    "except Exception as e:\n",
    "    print(f\"Error loading CSV file: {e}\")\n",
    "    exit()\n",
    "\n",
    "max_idx = len(labels) - 1\n",
    "if max_idx < 0:\n",
    "    print(\"No images found in the dataset after loading.\")\n",
    "    exit()\n",
    "\n",
    "# === Step 2: Get image index from user ===\n",
    "while True:\n",
    "    try:\n",
    "        idx_input = input(f\"Enter image index (0 to {max_idx}): \")\n",
    "        idx = int(idx_input)\n",
    "        if not (0 <= idx <= max_idx):\n",
    "            raise ValueError(f\"Index out of range. Must be between 0 and {max_idx}.\")\n",
    "        break\n",
    "    except ValueError as e:\n",
    "        print(f\"Invalid input: {e}. Please enter a whole number.\")\n",
    "\n",
    "# === Step 3: Prepare input image as vector ===\n",
    "img_arr = pixels[idx].reshape(1, 784)        # shape (1, 784)\n",
    "img_arr = img_arr / 255.0                    # normalize to [0,1]\n",
    "\n",
    "# === Step 4: Initialize weights and biases ===\n",
    "# Layer sizes: 784 → 107 → 26 → 10\n",
    "wl1l2 = np.random.randn(784, 107).astype(np.float32)\n",
    "wl2l3 = np.random.randn(107, 26).astype(np.float32)\n",
    "wl3l4 = np.random.randn(26, 10).astype(np.float32)\n",
    "\n",
    "biasl1 = np.random.randn(1, 107).astype(np.float32)\n",
    "biasl2 = np.random.randn(1, 26).astype(np.float32)\n",
    "biasl3 = np.random.randn(1, 10).astype(np.float32)\n",
    "\n",
    "# === Step 5: Forward pass ===\n",
    "# Input → Layer 2\n",
    "layer2_input = np.dot(img_arr, wl1l2) + biasl1\n",
    "layer2 = sigmoid(layer2_input).astype(np.float32)\n",
    "\n",
    "# Layer 2 → Layer 3\n",
    "layer3_input = np.dot(layer2, wl2l3) + biasl2\n",
    "layer3 = sigmoid(layer3_input).astype(np.float32)\n",
    "\n",
    "# Layer 3 → Output Layer\n",
    "output_input = np.dot(layer3, wl3l4) + biasl3\n",
    "output_layer = sigmoid(output_input).astype(np.float32)\n",
    "\n",
    "# === Step 6: Output ===\n",
    "print(\"\\nOutput vector (shape: 1x10):\")\n",
    "print(output_layer)\n",
    "\n",
    "predicted_label = np.argmax(output_layer)\n",
    "print(f\"Predicted digit: {predicted_label}\")\n"
   ]
  },
  {
   "cell_type": "markdown",
   "id": "4089821b-4f19-45bc-bc5d-9acba2ad756c",
   "metadata": {},
   "source": [
    "### ✅ **Markdown for Version 2: Object-Oriented Neural Network**"
   ]
  },
  {
   "cell_type": "code",
   "execution_count": 7,
   "id": "116d3eee-64ef-49d6-9cce-d2b9b1c0e8c3",
   "metadata": {},
   "outputs": [
    {
     "name": "stdout",
     "output_type": "stream",
     "text": [
      "Found CSV file: ./data\\mnist_test.csv\n",
      "Loaded 10000 images.\n"
     ]
    },
    {
     "name": "stdin",
     "output_type": "stream",
     "text": [
      "Enter image index (0 to 9999):  5000\n"
     ]
    },
    {
     "name": "stdout",
     "output_type": "stream",
     "text": [
      "\n",
      "Final output (1×10):\n",
      "[[9.30544242e-01 5.16761863e-08 7.90912996e-02 2.24781751e-02\n",
      "  9.83517606e-01 5.10283912e-01 4.43659533e-03 6.34937908e-02\n",
      "  6.22374914e-01 4.49136254e-01]]\n",
      "Predicted digit: 4\n"
     ]
    }
   ],
   "source": [
    "import os\n",
    "import numpy as np\n",
    "from PIL import Image\n",
    "from IPython.display import display\n",
    "from scipy.special import expit as sigmoid  # sigmoid activation\n",
    "\n",
    "# === Step 1: Load CSV file from ./data ===\n",
    "path = './data'\n",
    "\n",
    "if not os.path.exists(path):\n",
    "    os.makedirs(path)\n",
    "    print(f\"Created directory: {path}. Please place your CSV file inside this folder.\")\n",
    "    exit()\n",
    "\n",
    "csv_files = [f for f in os.listdir(path) if f.endswith('.csv')]\n",
    "\n",
    "if not csv_files:\n",
    "    print(f\"No CSV files found in '{path}'.\")\n",
    "    print(\"Please make sure your image dataset CSV file is placed in this folder.\")\n",
    "    exit()\n",
    "\n",
    "csv_path = os.path.join(path, csv_files[0])\n",
    "print(f\"Found CSV file: {csv_path}\")\n",
    "\n",
    "try:\n",
    "    data = np.genfromtxt(csv_path, delimiter=',', skip_header=1)\n",
    "    if data.size == 0:\n",
    "        print(f\"Warning: CSV file '{csv_path}' might be empty or `skip_header=1` was incorrect. Trying with `skip_header=0`.\")\n",
    "        data = np.genfromtxt(csv_path, delimiter=',', skip_header=0)\n",
    "\n",
    "    if data.size == 0:\n",
    "        raise ValueError(\"No data could be loaded from the CSV file. It might be empty or malformed.\")\n",
    "\n",
    "    labels = data[:, 0].astype(int)\n",
    "    pixels = data[:, 1:].astype(np.uint8)\n",
    "\n",
    "    print(f\"Loaded {len(labels)} images.\")\n",
    "\n",
    "except Exception as e:\n",
    "    print(f\"Error loading CSV file: {e}\")\n",
    "    exit()\n",
    "\n",
    "max_idx = len(labels) - 1\n",
    "if max_idx < 0:\n",
    "    print(\"No images found in the dataset after loading.\")\n",
    "    exit()\n",
    "\n",
    "# === Step 2: Get image index from user ===\n",
    "while True:\n",
    "    try:\n",
    "        idx_input = input(f\"Enter image index (0 to {max_idx}): \")\n",
    "        idx = int(idx_input)\n",
    "        if not (0 <= idx <= max_idx):\n",
    "            raise ValueError(f\"Index out of range. Must be between 0 and {max_idx}.\")\n",
    "        break\n",
    "    except ValueError as e:\n",
    "        print(f\"Invalid input: {e}. Please enter a whole number.\")\n",
    "\n",
    "# === Step 3: Prepare input image as vector ===\n",
    "img_arr = pixels[idx].reshape(1, 784)        # shape (1, 784)\n",
    "img_arr = img_arr / 255.0                    # normalize to [0,1]\n",
    "\n",
    "# === Layer Class ===\n",
    "class Layer:\n",
    "    def __init__(self, input_size, output_size):\n",
    "        self.weights = np.random.randn(input_size, output_size).astype(np.float32)\n",
    "        self.bias = np.random.randn(1, output_size).astype(np.float32)\n",
    "    \n",
    "    def forward(self, input_data):\n",
    "        \"\"\"\n",
    "        Perform forward pass: (input × weights) + bias, then apply sigmoid\n",
    "        input_data shape: (batch_size, input_size)\n",
    "        returns: output shape (batch_size, output_size)\n",
    "        \"\"\"\n",
    "        z = np.dot(input_data, self.weights) + self.bias\n",
    "        return sigmoid(z)\n",
    "\n",
    "# Simulated input: one image of shape (1, 784)\n",
    "input_data = img_arr\n",
    "\n",
    "# Define a 3-layer feedforward network\n",
    "layers = [\n",
    "    Layer(784, 128),\n",
    "    Layer(128, 64),\n",
    "    Layer(64, 10)\n",
    "]\n",
    "\n",
    "for layer in (layers):\n",
    "    output = layer.forward(input_data)\n",
    "    input_data = output\n",
    "\n",
    "print(\"\\nFinal output (1×10):\")\n",
    "print(output)\n",
    "\n",
    "predicted_label = np.argmax(output)\n",
    "print(f\"Predicted digit: {predicted_label}\")"
   ]
  },
  {
   "cell_type": "code",
   "execution_count": null,
   "id": "36acd125-91b0-4308-9b45-59af12adb415",
   "metadata": {},
   "outputs": [],
   "source": []
  }
 ],
 "metadata": {
  "kernelspec": {
   "display_name": "Python 3 (ipykernel)",
   "language": "python",
   "name": "python3"
  },
  "language_info": {
   "codemirror_mode": {
    "name": "ipython",
    "version": 3
   },
   "file_extension": ".py",
   "mimetype": "text/x-python",
   "name": "python",
   "nbconvert_exporter": "python",
   "pygments_lexer": "ipython3",
   "version": "3.12.6"
  }
 },
 "nbformat": 4,
 "nbformat_minor": 5
}
